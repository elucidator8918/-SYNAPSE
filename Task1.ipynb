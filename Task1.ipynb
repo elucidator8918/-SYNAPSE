{
 "cells": [
  {
   "cell_type": "code",
   "execution_count": 1,
   "id": "00c5c903",
   "metadata": {},
   "outputs": [
    {
     "name": "stdout",
     "output_type": "stream",
     "text": [
      "[0, 1, 2, 3, 4]\n",
      "['CLaiRe_DunPhY', 'PHiL_dUnpHY', 'GLoRiA_PriTCheTt', 'CaMErOn_TuCKEr', 'StELLa']\n",
      "['claire-dunphy', 'phil-dunphy', 'gloria-pritchett', 'cameron-tucker', 'stella']\n",
      "[13, 11, 16, 14, 6]\n",
      "[13, 12, 18, 17, 10]\n",
      "[18, 17, 13, 12, 10]\n",
      "{18: 'claire-dunphy', 17: 'phil-dunphy', 13: 'gloria-pritchett', 12: 'cameron-tucker', 10: 'stella'}\n"
     ]
    }
   ],
   "source": [
    "#task 1.1\n",
    "modern_family = ['CLaiRe_DunPhY', 'PHiL_dUnpHY', 'GLoRiA_PriTCheTt', 'CaMErOn_TuCKEr','StELLa']\n",
    "\"\"\"\n",
    "(1)Use the enumerate() and append() functions to create two lists (named 'indices' and\n",
    "'characters') containing all the indices of the items in the first list and the items in the\n",
    "second list from the given list.\n",
    "\"\"\"\n",
    "indices=[element[0] for element in list(enumerate(modern_family,0))]\n",
    "characters=[element[1] for element in list(enumerate(modern_family,0))]\n",
    "print(indices)\n",
    "print(characters)\n",
    "\"\"\"\n",
    "(2)Use the lower() and replace() functions to remove the capitalization from all items in\n",
    "'characters' and to replace any underscore, if present in an item, with a hyphen.\n",
    "\"\"\"\n",
    "characters=[element.lower() for element in characters]\n",
    "characters=[element.replace('_','-') for element in characters]\n",
    "print(characters)\n",
    "\"\"\"\n",
    "(3)Write a lambda function using the len() function to return the length of a given input\n",
    "sequence. Create a new list called 'temp' by using this lambda function on 'characters'\n",
    "with the help of the map() function.\n",
    "\"\"\"\n",
    "x=lambda t:len(t)\n",
    "temp=list(map(x,characters))\n",
    "print(temp)\n",
    "\"\"\"\n",
    "(4)Use the zip() and sum() functions to add the sum of 'indices' and 'temp', assigning the\n",
    "result back to 'indices'.\n",
    "\"\"\"\n",
    "indices=[sum(t) for t in zip(indices,temp)]\n",
    "print(indices)\n",
    "#(5)Use the sort() function to sort the items in 'indices' in descending order.\n",
    "indices.sort(reverse=True)\n",
    "print(indices)\n",
    "\"\"\"\n",
    "(6)Finally, create a dictionary named 'Phew_finally' using 'characters' and 'indices' as keys\n",
    "and values respectively. You can choose to do this using any method that you like,\n",
    "preferably the most efficient.\n",
    "\"\"\"\n",
    "Phew_finally=dict(list(zip(indices,characters)))\n",
    "print(Phew_finally)"
   ]
  },
  {
   "cell_type": "code",
   "execution_count": 2,
   "id": "f0f73e49",
   "metadata": {},
   "outputs": [
    {
     "name": "stdout",
     "output_type": "stream",
     "text": [
      "['green_light', 'green_light', 'green_light', 'green_light', 'green_light', 'green_light']\n"
     ]
    }
   ],
   "source": [
    "#task 1.2\n",
    "\"\"\"\n",
    "Observe the given list carefully and using only list slicing, create a list named 'next_game'\n",
    "which contains all 'green_light' elements from the given list. Make sure you don’t accidentally\n",
    "include the others!\n",
    "\"\"\"\n",
    "creepy_doll = ['red_light', 'green_light', 'red_light', 'you_got_shot', 'green_light', 'you_got_shot', 'you_got_shot', 'green_light', 'you_ got_shot', 'red_light', 'green_light', 'red_light', 'you_got_shot', 'green_light','red_light', 'red_light', 'green_light', 'you_got_shot','red_light', 'you_got_shot']\n",
    "next_game=[]\n",
    "for i in range(len(creepy_doll)):\n",
    "    if creepy_doll[i]=='green_light':        \n",
    "        next_game[:0]=creepy_doll[i:i+1]\n",
    "print(next_game)"
   ]
  },
  {
   "cell_type": "code",
   "execution_count": 3,
   "id": "ec886c91",
   "metadata": {},
   "outputs": [],
   "source": [
    "#task 1.3\n",
    "\"\"\"\n",
    "Create a class named Titandex which takes the name of the Titan, its height, its strength, and\n",
    "its winning streak (initially 0) as constructor parameters. Define a function in this class named\n",
    "TitanvsScout which takes input the name of the Scout and its strength, compares the\n",
    "strengths of the Titan and the Scout, and concludes a winner or decides a draw. If the Titan\n",
    "wins, increase its winning streak otherwise reset it. Define a similar function TitanvsTitan\n",
    "(make sure that the Titan does not have to fight itself!)\n",
    "\"\"\"\n",
    "class Titandex:\n",
    "    def __init__(self,name,height,strength,winning_streak):\n",
    "        self.name=name\n",
    "        self.height=height\n",
    "        self.strength=strength\n",
    "        self.winning_streak=winning_streak\n",
    "    def TitanvsScout(self):\n",
    "        name=input(\"Enter the name of scout\")        \n",
    "        strength=input(\"Enter the strength of the scout\")\n",
    "        if(self.strength>=strength):\n",
    "            print(self.name\" wins bruh\")\n",
    "            self.winning_streak+=1\n",
    "        elif(self.strength<=strength):\n",
    "            print(name.upper()+\" WINS! HAIL ERWIN'S LEGACY\")\n",
    "        else:\n",
    "            print(\"DRAW?!?!?!\")\n",
    "    def TitanvsTitan(self):\n",
    "        name=input(\"Enter the name of ally titan \")        \n",
    "        strength=input(\"Enter the strength of the ally titan \")\n",
    "        if(name==self.name):\n",
    "            print(\"NO BRO\")\n",
    "        else:\n",
    "            if(self.strength>=strength):                \n",
    "                print(self.name+\"  wins bruh\")            \n",
    "                self.winning_streak+=1\n",
    "            elif(self.strength<=strength):\n",
    "                print(name.upper()+\" WINS! ITS GONNA BE ALL GOOD NOW RIGHT? RIGHT???? *grim face*\")\n",
    "            else:\n",
    "                print(\"DRAW *clown face*\")        "
   ]
  },
  {
   "cell_type": "code",
   "execution_count": 4,
   "id": "7033892f",
   "metadata": {
    "scrolled": false
   },
   "outputs": [
    {
     "name": "stdout",
     "output_type": "stream",
     "text": [
      "Enter the name of antagonist titan Armoured Titan\n",
      "Enter the height of the antagonist titan 15\n",
      "Enter the strength of the antagonist titan 250\n"
     ]
    }
   ],
   "source": [
    "x=Titandex(input(\"Enter the name of antagonist titan \"),input(\"Enter the height of the antagonist titan \"),input(\"Enter the strength of the antagonist titan \"),0)"
   ]
  },
  {
   "cell_type": "code",
   "execution_count": 5,
   "id": "f1118853",
   "metadata": {
    "scrolled": true
   },
   "outputs": [
    {
     "name": "stdout",
     "output_type": "stream",
     "text": [
      "Enter the name of ally titan Attack Titan\n",
      "Enter the strength of the ally titan 275\n",
      "ATTACK TITAN WINS! ITS GONNA BE ALL GOOD NOW RIGHT? RIGHT???? *grim face*\n"
     ]
    }
   ],
   "source": [
    "x.TitanvsTitan()"
   ]
  },
  {
   "cell_type": "code",
   "execution_count": 6,
   "id": "b692a398",
   "metadata": {},
   "outputs": [
    {
     "name": "stdout",
     "output_type": "stream",
     "text": [
      "Enter the name of scoutLevi\n",
      "Enter the strength of the scout300\n",
      "LEVI WINS! HAIL ERWIN'S LEGACY\n"
     ]
    }
   ],
   "source": [
    "x.TitanvsScout()"
   ]
  },
  {
   "cell_type": "code",
   "execution_count": null,
   "id": "9446a0e5",
   "metadata": {},
   "outputs": [],
   "source": []
  }
 ],
 "metadata": {
  "kernelspec": {
   "display_name": "Python 3 (ipykernel)",
   "language": "python",
   "name": "python3"
  },
  "language_info": {
   "codemirror_mode": {
    "name": "ipython",
    "version": 3
   },
   "file_extension": ".py",
   "mimetype": "text/x-python",
   "name": "python",
   "nbconvert_exporter": "python",
   "pygments_lexer": "ipython3",
   "version": "3.9.12"
  }
 },
 "nbformat": 4,
 "nbformat_minor": 5
}

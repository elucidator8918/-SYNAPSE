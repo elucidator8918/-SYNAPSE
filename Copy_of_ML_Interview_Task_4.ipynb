{
  "nbformat": 4,
  "nbformat_minor": 0,
  "metadata": {
    "colab": {
      "provenance": [],
      "collapsed_sections": [],
      "include_colab_link": true
    },
    "kernelspec": {
      "name": "python3",
      "display_name": "Python 3"
    },
    "language_info": {
      "name": "python"
    },
    "accelerator": "GPU",
    "gpuClass": "standard",
    "widgets": {
      "application/vnd.jupyter.widget-state+json": {
        "db0dc443cb024a108f8848f6dafd7f6f": {
          "model_module": "@jupyter-widgets/controls",
          "model_name": "HBoxModel",
          "model_module_version": "1.5.0",
          "state": {
            "_dom_classes": [],
            "_model_module": "@jupyter-widgets/controls",
            "_model_module_version": "1.5.0",
            "_model_name": "HBoxModel",
            "_view_count": null,
            "_view_module": "@jupyter-widgets/controls",
            "_view_module_version": "1.5.0",
            "_view_name": "HBoxView",
            "box_style": "",
            "children": [
              "IPY_MODEL_02f94ead1dab4e2493ac37d256b259f9",
              "IPY_MODEL_b53b2e4ed5c04e4eaddc3d8de8211cf9",
              "IPY_MODEL_e5ade13fd7d14fad815ebf502061da36"
            ],
            "layout": "IPY_MODEL_5069d8ed139b41639587754c60ac019b"
          }
        },
        "02f94ead1dab4e2493ac37d256b259f9": {
          "model_module": "@jupyter-widgets/controls",
          "model_name": "HTMLModel",
          "model_module_version": "1.5.0",
          "state": {
            "_dom_classes": [],
            "_model_module": "@jupyter-widgets/controls",
            "_model_module_version": "1.5.0",
            "_model_name": "HTMLModel",
            "_view_count": null,
            "_view_module": "@jupyter-widgets/controls",
            "_view_module_version": "1.5.0",
            "_view_name": "HTMLView",
            "description": "",
            "description_tooltip": null,
            "layout": "IPY_MODEL_4aef3cb0d14d408686e1136d14ab42e2",
            "placeholder": "​",
            "style": "IPY_MODEL_ffa0471cd46c4a59a02fe733b27cc647",
            "value": "100%"
          }
        },
        "b53b2e4ed5c04e4eaddc3d8de8211cf9": {
          "model_module": "@jupyter-widgets/controls",
          "model_name": "FloatProgressModel",
          "model_module_version": "1.5.0",
          "state": {
            "_dom_classes": [],
            "_model_module": "@jupyter-widgets/controls",
            "_model_module_version": "1.5.0",
            "_model_name": "FloatProgressModel",
            "_view_count": null,
            "_view_module": "@jupyter-widgets/controls",
            "_view_module_version": "1.5.0",
            "_view_name": "ProgressView",
            "bar_style": "success",
            "description": "",
            "description_tooltip": null,
            "layout": "IPY_MODEL_9fd93c3704d84b298d3b23412dcbaa0a",
            "max": 9912422,
            "min": 0,
            "orientation": "horizontal",
            "style": "IPY_MODEL_cc1e61c1964b4599833564a9bbc6a66b",
            "value": 9912422
          }
        },
        "e5ade13fd7d14fad815ebf502061da36": {
          "model_module": "@jupyter-widgets/controls",
          "model_name": "HTMLModel",
          "model_module_version": "1.5.0",
          "state": {
            "_dom_classes": [],
            "_model_module": "@jupyter-widgets/controls",
            "_model_module_version": "1.5.0",
            "_model_name": "HTMLModel",
            "_view_count": null,
            "_view_module": "@jupyter-widgets/controls",
            "_view_module_version": "1.5.0",
            "_view_name": "HTMLView",
            "description": "",
            "description_tooltip": null,
            "layout": "IPY_MODEL_63ba08fc3b1344b8a09600f0dab4930f",
            "placeholder": "​",
            "style": "IPY_MODEL_f4fad64e606f4c65805d55a4f2c2432e",
            "value": " 9912422/9912422 [00:00&lt;00:00, 88668841.69it/s]"
          }
        },
        "5069d8ed139b41639587754c60ac019b": {
          "model_module": "@jupyter-widgets/base",
          "model_name": "LayoutModel",
          "model_module_version": "1.2.0",
          "state": {
            "_model_module": "@jupyter-widgets/base",
            "_model_module_version": "1.2.0",
            "_model_name": "LayoutModel",
            "_view_count": null,
            "_view_module": "@jupyter-widgets/base",
            "_view_module_version": "1.2.0",
            "_view_name": "LayoutView",
            "align_content": null,
            "align_items": null,
            "align_self": null,
            "border": null,
            "bottom": null,
            "display": null,
            "flex": null,
            "flex_flow": null,
            "grid_area": null,
            "grid_auto_columns": null,
            "grid_auto_flow": null,
            "grid_auto_rows": null,
            "grid_column": null,
            "grid_gap": null,
            "grid_row": null,
            "grid_template_areas": null,
            "grid_template_columns": null,
            "grid_template_rows": null,
            "height": null,
            "justify_content": null,
            "justify_items": null,
            "left": null,
            "margin": null,
            "max_height": null,
            "max_width": null,
            "min_height": null,
            "min_width": null,
            "object_fit": null,
            "object_position": null,
            "order": null,
            "overflow": null,
            "overflow_x": null,
            "overflow_y": null,
            "padding": null,
            "right": null,
            "top": null,
            "visibility": null,
            "width": null
          }
        },
        "4aef3cb0d14d408686e1136d14ab42e2": {
          "model_module": "@jupyter-widgets/base",
          "model_name": "LayoutModel",
          "model_module_version": "1.2.0",
          "state": {
            "_model_module": "@jupyter-widgets/base",
            "_model_module_version": "1.2.0",
            "_model_name": "LayoutModel",
            "_view_count": null,
            "_view_module": "@jupyter-widgets/base",
            "_view_module_version": "1.2.0",
            "_view_name": "LayoutView",
            "align_content": null,
            "align_items": null,
            "align_self": null,
            "border": null,
            "bottom": null,
            "display": null,
            "flex": null,
            "flex_flow": null,
            "grid_area": null,
            "grid_auto_columns": null,
            "grid_auto_flow": null,
            "grid_auto_rows": null,
            "grid_column": null,
            "grid_gap": null,
            "grid_row": null,
            "grid_template_areas": null,
            "grid_template_columns": null,
            "grid_template_rows": null,
            "height": null,
            "justify_content": null,
            "justify_items": null,
            "left": null,
            "margin": null,
            "max_height": null,
            "max_width": null,
            "min_height": null,
            "min_width": null,
            "object_fit": null,
            "object_position": null,
            "order": null,
            "overflow": null,
            "overflow_x": null,
            "overflow_y": null,
            "padding": null,
            "right": null,
            "top": null,
            "visibility": null,
            "width": null
          }
        },
        "ffa0471cd46c4a59a02fe733b27cc647": {
          "model_module": "@jupyter-widgets/controls",
          "model_name": "DescriptionStyleModel",
          "model_module_version": "1.5.0",
          "state": {
            "_model_module": "@jupyter-widgets/controls",
            "_model_module_version": "1.5.0",
            "_model_name": "DescriptionStyleModel",
            "_view_count": null,
            "_view_module": "@jupyter-widgets/base",
            "_view_module_version": "1.2.0",
            "_view_name": "StyleView",
            "description_width": ""
          }
        },
        "9fd93c3704d84b298d3b23412dcbaa0a": {
          "model_module": "@jupyter-widgets/base",
          "model_name": "LayoutModel",
          "model_module_version": "1.2.0",
          "state": {
            "_model_module": "@jupyter-widgets/base",
            "_model_module_version": "1.2.0",
            "_model_name": "LayoutModel",
            "_view_count": null,
            "_view_module": "@jupyter-widgets/base",
            "_view_module_version": "1.2.0",
            "_view_name": "LayoutView",
            "align_content": null,
            "align_items": null,
            "align_self": null,
            "border": null,
            "bottom": null,
            "display": null,
            "flex": null,
            "flex_flow": null,
            "grid_area": null,
            "grid_auto_columns": null,
            "grid_auto_flow": null,
            "grid_auto_rows": null,
            "grid_column": null,
            "grid_gap": null,
            "grid_row": null,
            "grid_template_areas": null,
            "grid_template_columns": null,
            "grid_template_rows": null,
            "height": null,
            "justify_content": null,
            "justify_items": null,
            "left": null,
            "margin": null,
            "max_height": null,
            "max_width": null,
            "min_height": null,
            "min_width": null,
            "object_fit": null,
            "object_position": null,
            "order": null,
            "overflow": null,
            "overflow_x": null,
            "overflow_y": null,
            "padding": null,
            "right": null,
            "top": null,
            "visibility": null,
            "width": null
          }
        },
        "cc1e61c1964b4599833564a9bbc6a66b": {
          "model_module": "@jupyter-widgets/controls",
          "model_name": "ProgressStyleModel",
          "model_module_version": "1.5.0",
          "state": {
            "_model_module": "@jupyter-widgets/controls",
            "_model_module_version": "1.5.0",
            "_model_name": "ProgressStyleModel",
            "_view_count": null,
            "_view_module": "@jupyter-widgets/base",
            "_view_module_version": "1.2.0",
            "_view_name": "StyleView",
            "bar_color": null,
            "description_width": ""
          }
        },
        "63ba08fc3b1344b8a09600f0dab4930f": {
          "model_module": "@jupyter-widgets/base",
          "model_name": "LayoutModel",
          "model_module_version": "1.2.0",
          "state": {
            "_model_module": "@jupyter-widgets/base",
            "_model_module_version": "1.2.0",
            "_model_name": "LayoutModel",
            "_view_count": null,
            "_view_module": "@jupyter-widgets/base",
            "_view_module_version": "1.2.0",
            "_view_name": "LayoutView",
            "align_content": null,
            "align_items": null,
            "align_self": null,
            "border": null,
            "bottom": null,
            "display": null,
            "flex": null,
            "flex_flow": null,
            "grid_area": null,
            "grid_auto_columns": null,
            "grid_auto_flow": null,
            "grid_auto_rows": null,
            "grid_column": null,
            "grid_gap": null,
            "grid_row": null,
            "grid_template_areas": null,
            "grid_template_columns": null,
            "grid_template_rows": null,
            "height": null,
            "justify_content": null,
            "justify_items": null,
            "left": null,
            "margin": null,
            "max_height": null,
            "max_width": null,
            "min_height": null,
            "min_width": null,
            "object_fit": null,
            "object_position": null,
            "order": null,
            "overflow": null,
            "overflow_x": null,
            "overflow_y": null,
            "padding": null,
            "right": null,
            "top": null,
            "visibility": null,
            "width": null
          }
        },
        "f4fad64e606f4c65805d55a4f2c2432e": {
          "model_module": "@jupyter-widgets/controls",
          "model_name": "DescriptionStyleModel",
          "model_module_version": "1.5.0",
          "state": {
            "_model_module": "@jupyter-widgets/controls",
            "_model_module_version": "1.5.0",
            "_model_name": "DescriptionStyleModel",
            "_view_count": null,
            "_view_module": "@jupyter-widgets/base",
            "_view_module_version": "1.2.0",
            "_view_name": "StyleView",
            "description_width": ""
          }
        },
        "062339b31f164b25875cc3e97f3ee6b2": {
          "model_module": "@jupyter-widgets/controls",
          "model_name": "HBoxModel",
          "model_module_version": "1.5.0",
          "state": {
            "_dom_classes": [],
            "_model_module": "@jupyter-widgets/controls",
            "_model_module_version": "1.5.0",
            "_model_name": "HBoxModel",
            "_view_count": null,
            "_view_module": "@jupyter-widgets/controls",
            "_view_module_version": "1.5.0",
            "_view_name": "HBoxView",
            "box_style": "",
            "children": [
              "IPY_MODEL_faf35c7c269e4dd9ab35c32c29ce81e3",
              "IPY_MODEL_b7b136a0780a4c89840a7d4a02a0d115",
              "IPY_MODEL_21f60511a1744ccfbda54677408749ef"
            ],
            "layout": "IPY_MODEL_a4ae0e012815421ca9fcc7fc2d1f65f0"
          }
        },
        "faf35c7c269e4dd9ab35c32c29ce81e3": {
          "model_module": "@jupyter-widgets/controls",
          "model_name": "HTMLModel",
          "model_module_version": "1.5.0",
          "state": {
            "_dom_classes": [],
            "_model_module": "@jupyter-widgets/controls",
            "_model_module_version": "1.5.0",
            "_model_name": "HTMLModel",
            "_view_count": null,
            "_view_module": "@jupyter-widgets/controls",
            "_view_module_version": "1.5.0",
            "_view_name": "HTMLView",
            "description": "",
            "description_tooltip": null,
            "layout": "IPY_MODEL_2a8c106278c34f38a7818a67c4b6bd0d",
            "placeholder": "​",
            "style": "IPY_MODEL_ba8bc8910a784fbc96d45244214f372c",
            "value": "100%"
          }
        },
        "b7b136a0780a4c89840a7d4a02a0d115": {
          "model_module": "@jupyter-widgets/controls",
          "model_name": "FloatProgressModel",
          "model_module_version": "1.5.0",
          "state": {
            "_dom_classes": [],
            "_model_module": "@jupyter-widgets/controls",
            "_model_module_version": "1.5.0",
            "_model_name": "FloatProgressModel",
            "_view_count": null,
            "_view_module": "@jupyter-widgets/controls",
            "_view_module_version": "1.5.0",
            "_view_name": "ProgressView",
            "bar_style": "success",
            "description": "",
            "description_tooltip": null,
            "layout": "IPY_MODEL_74f0c4c49b7c49f394fef1ab0743d1ce",
            "max": 28881,
            "min": 0,
            "orientation": "horizontal",
            "style": "IPY_MODEL_6c74f4ad64044e419ba38fc2fc5a523f",
            "value": 28881
          }
        },
        "21f60511a1744ccfbda54677408749ef": {
          "model_module": "@jupyter-widgets/controls",
          "model_name": "HTMLModel",
          "model_module_version": "1.5.0",
          "state": {
            "_dom_classes": [],
            "_model_module": "@jupyter-widgets/controls",
            "_model_module_version": "1.5.0",
            "_model_name": "HTMLModel",
            "_view_count": null,
            "_view_module": "@jupyter-widgets/controls",
            "_view_module_version": "1.5.0",
            "_view_name": "HTMLView",
            "description": "",
            "description_tooltip": null,
            "layout": "IPY_MODEL_08330b2d1f044b119327a1fa2713b328",
            "placeholder": "​",
            "style": "IPY_MODEL_467fe26615c543c6a1bc0fc1730343cc",
            "value": " 28881/28881 [00:00&lt;00:00, 986005.40it/s]"
          }
        },
        "a4ae0e012815421ca9fcc7fc2d1f65f0": {
          "model_module": "@jupyter-widgets/base",
          "model_name": "LayoutModel",
          "model_module_version": "1.2.0",
          "state": {
            "_model_module": "@jupyter-widgets/base",
            "_model_module_version": "1.2.0",
            "_model_name": "LayoutModel",
            "_view_count": null,
            "_view_module": "@jupyter-widgets/base",
            "_view_module_version": "1.2.0",
            "_view_name": "LayoutView",
            "align_content": null,
            "align_items": null,
            "align_self": null,
            "border": null,
            "bottom": null,
            "display": null,
            "flex": null,
            "flex_flow": null,
            "grid_area": null,
            "grid_auto_columns": null,
            "grid_auto_flow": null,
            "grid_auto_rows": null,
            "grid_column": null,
            "grid_gap": null,
            "grid_row": null,
            "grid_template_areas": null,
            "grid_template_columns": null,
            "grid_template_rows": null,
            "height": null,
            "justify_content": null,
            "justify_items": null,
            "left": null,
            "margin": null,
            "max_height": null,
            "max_width": null,
            "min_height": null,
            "min_width": null,
            "object_fit": null,
            "object_position": null,
            "order": null,
            "overflow": null,
            "overflow_x": null,
            "overflow_y": null,
            "padding": null,
            "right": null,
            "top": null,
            "visibility": null,
            "width": null
          }
        },
        "2a8c106278c34f38a7818a67c4b6bd0d": {
          "model_module": "@jupyter-widgets/base",
          "model_name": "LayoutModel",
          "model_module_version": "1.2.0",
          "state": {
            "_model_module": "@jupyter-widgets/base",
            "_model_module_version": "1.2.0",
            "_model_name": "LayoutModel",
            "_view_count": null,
            "_view_module": "@jupyter-widgets/base",
            "_view_module_version": "1.2.0",
            "_view_name": "LayoutView",
            "align_content": null,
            "align_items": null,
            "align_self": null,
            "border": null,
            "bottom": null,
            "display": null,
            "flex": null,
            "flex_flow": null,
            "grid_area": null,
            "grid_auto_columns": null,
            "grid_auto_flow": null,
            "grid_auto_rows": null,
            "grid_column": null,
            "grid_gap": null,
            "grid_row": null,
            "grid_template_areas": null,
            "grid_template_columns": null,
            "grid_template_rows": null,
            "height": null,
            "justify_content": null,
            "justify_items": null,
            "left": null,
            "margin": null,
            "max_height": null,
            "max_width": null,
            "min_height": null,
            "min_width": null,
            "object_fit": null,
            "object_position": null,
            "order": null,
            "overflow": null,
            "overflow_x": null,
            "overflow_y": null,
            "padding": null,
            "right": null,
            "top": null,
            "visibility": null,
            "width": null
          }
        },
        "ba8bc8910a784fbc96d45244214f372c": {
          "model_module": "@jupyter-widgets/controls",
          "model_name": "DescriptionStyleModel",
          "model_module_version": "1.5.0",
          "state": {
            "_model_module": "@jupyter-widgets/controls",
            "_model_module_version": "1.5.0",
            "_model_name": "DescriptionStyleModel",
            "_view_count": null,
            "_view_module": "@jupyter-widgets/base",
            "_view_module_version": "1.2.0",
            "_view_name": "StyleView",
            "description_width": ""
          }
        },
        "74f0c4c49b7c49f394fef1ab0743d1ce": {
          "model_module": "@jupyter-widgets/base",
          "model_name": "LayoutModel",
          "model_module_version": "1.2.0",
          "state": {
            "_model_module": "@jupyter-widgets/base",
            "_model_module_version": "1.2.0",
            "_model_name": "LayoutModel",
            "_view_count": null,
            "_view_module": "@jupyter-widgets/base",
            "_view_module_version": "1.2.0",
            "_view_name": "LayoutView",
            "align_content": null,
            "align_items": null,
            "align_self": null,
            "border": null,
            "bottom": null,
            "display": null,
            "flex": null,
            "flex_flow": null,
            "grid_area": null,
            "grid_auto_columns": null,
            "grid_auto_flow": null,
            "grid_auto_rows": null,
            "grid_column": null,
            "grid_gap": null,
            "grid_row": null,
            "grid_template_areas": null,
            "grid_template_columns": null,
            "grid_template_rows": null,
            "height": null,
            "justify_content": null,
            "justify_items": null,
            "left": null,
            "margin": null,
            "max_height": null,
            "max_width": null,
            "min_height": null,
            "min_width": null,
            "object_fit": null,
            "object_position": null,
            "order": null,
            "overflow": null,
            "overflow_x": null,
            "overflow_y": null,
            "padding": null,
            "right": null,
            "top": null,
            "visibility": null,
            "width": null
          }
        },
        "6c74f4ad64044e419ba38fc2fc5a523f": {
          "model_module": "@jupyter-widgets/controls",
          "model_name": "ProgressStyleModel",
          "model_module_version": "1.5.0",
          "state": {
            "_model_module": "@jupyter-widgets/controls",
            "_model_module_version": "1.5.0",
            "_model_name": "ProgressStyleModel",
            "_view_count": null,
            "_view_module": "@jupyter-widgets/base",
            "_view_module_version": "1.2.0",
            "_view_name": "StyleView",
            "bar_color": null,
            "description_width": ""
          }
        },
        "08330b2d1f044b119327a1fa2713b328": {
          "model_module": "@jupyter-widgets/base",
          "model_name": "LayoutModel",
          "model_module_version": "1.2.0",
          "state": {
            "_model_module": "@jupyter-widgets/base",
            "_model_module_version": "1.2.0",
            "_model_name": "LayoutModel",
            "_view_count": null,
            "_view_module": "@jupyter-widgets/base",
            "_view_module_version": "1.2.0",
            "_view_name": "LayoutView",
            "align_content": null,
            "align_items": null,
            "align_self": null,
            "border": null,
            "bottom": null,
            "display": null,
            "flex": null,
            "flex_flow": null,
            "grid_area": null,
            "grid_auto_columns": null,
            "grid_auto_flow": null,
            "grid_auto_rows": null,
            "grid_column": null,
            "grid_gap": null,
            "grid_row": null,
            "grid_template_areas": null,
            "grid_template_columns": null,
            "grid_template_rows": null,
            "height": null,
            "justify_content": null,
            "justify_items": null,
            "left": null,
            "margin": null,
            "max_height": null,
            "max_width": null,
            "min_height": null,
            "min_width": null,
            "object_fit": null,
            "object_position": null,
            "order": null,
            "overflow": null,
            "overflow_x": null,
            "overflow_y": null,
            "padding": null,
            "right": null,
            "top": null,
            "visibility": null,
            "width": null
          }
        },
        "467fe26615c543c6a1bc0fc1730343cc": {
          "model_module": "@jupyter-widgets/controls",
          "model_name": "DescriptionStyleModel",
          "model_module_version": "1.5.0",
          "state": {
            "_model_module": "@jupyter-widgets/controls",
            "_model_module_version": "1.5.0",
            "_model_name": "DescriptionStyleModel",
            "_view_count": null,
            "_view_module": "@jupyter-widgets/base",
            "_view_module_version": "1.2.0",
            "_view_name": "StyleView",
            "description_width": ""
          }
        },
        "70f795598db84d16b051116208dcc6fa": {
          "model_module": "@jupyter-widgets/controls",
          "model_name": "HBoxModel",
          "model_module_version": "1.5.0",
          "state": {
            "_dom_classes": [],
            "_model_module": "@jupyter-widgets/controls",
            "_model_module_version": "1.5.0",
            "_model_name": "HBoxModel",
            "_view_count": null,
            "_view_module": "@jupyter-widgets/controls",
            "_view_module_version": "1.5.0",
            "_view_name": "HBoxView",
            "box_style": "",
            "children": [
              "IPY_MODEL_9ebd5a51d7cd48cea46e2959a38ffa48",
              "IPY_MODEL_6ba6267c3fee44d6a7c46e22fe9e6a1f",
              "IPY_MODEL_59350f7996a541c1b8aad48bd285748d"
            ],
            "layout": "IPY_MODEL_23ccf0c6c4334e66a9f3e1163d6b1587"
          }
        },
        "9ebd5a51d7cd48cea46e2959a38ffa48": {
          "model_module": "@jupyter-widgets/controls",
          "model_name": "HTMLModel",
          "model_module_version": "1.5.0",
          "state": {
            "_dom_classes": [],
            "_model_module": "@jupyter-widgets/controls",
            "_model_module_version": "1.5.0",
            "_model_name": "HTMLModel",
            "_view_count": null,
            "_view_module": "@jupyter-widgets/controls",
            "_view_module_version": "1.5.0",
            "_view_name": "HTMLView",
            "description": "",
            "description_tooltip": null,
            "layout": "IPY_MODEL_62be514eb2df4dcc8584845ea91e3940",
            "placeholder": "​",
            "style": "IPY_MODEL_cad741c39aa34514bc33304057495d26",
            "value": "100%"
          }
        },
        "6ba6267c3fee44d6a7c46e22fe9e6a1f": {
          "model_module": "@jupyter-widgets/controls",
          "model_name": "FloatProgressModel",
          "model_module_version": "1.5.0",
          "state": {
            "_dom_classes": [],
            "_model_module": "@jupyter-widgets/controls",
            "_model_module_version": "1.5.0",
            "_model_name": "FloatProgressModel",
            "_view_count": null,
            "_view_module": "@jupyter-widgets/controls",
            "_view_module_version": "1.5.0",
            "_view_name": "ProgressView",
            "bar_style": "success",
            "description": "",
            "description_tooltip": null,
            "layout": "IPY_MODEL_dbb9c9594c704d56adc84689af49eb28",
            "max": 1648877,
            "min": 0,
            "orientation": "horizontal",
            "style": "IPY_MODEL_c72d6ed91b194665becc40b3acfc463b",
            "value": 1648877
          }
        },
        "59350f7996a541c1b8aad48bd285748d": {
          "model_module": "@jupyter-widgets/controls",
          "model_name": "HTMLModel",
          "model_module_version": "1.5.0",
          "state": {
            "_dom_classes": [],
            "_model_module": "@jupyter-widgets/controls",
            "_model_module_version": "1.5.0",
            "_model_name": "HTMLModel",
            "_view_count": null,
            "_view_module": "@jupyter-widgets/controls",
            "_view_module_version": "1.5.0",
            "_view_name": "HTMLView",
            "description": "",
            "description_tooltip": null,
            "layout": "IPY_MODEL_7869be7da9f14981b0b357cdb710f45e",
            "placeholder": "​",
            "style": "IPY_MODEL_fc6378d40a8e451ea90ace93c3bedf1b",
            "value": " 1648877/1648877 [00:00&lt;00:00, 40750030.33it/s]"
          }
        },
        "23ccf0c6c4334e66a9f3e1163d6b1587": {
          "model_module": "@jupyter-widgets/base",
          "model_name": "LayoutModel",
          "model_module_version": "1.2.0",
          "state": {
            "_model_module": "@jupyter-widgets/base",
            "_model_module_version": "1.2.0",
            "_model_name": "LayoutModel",
            "_view_count": null,
            "_view_module": "@jupyter-widgets/base",
            "_view_module_version": "1.2.0",
            "_view_name": "LayoutView",
            "align_content": null,
            "align_items": null,
            "align_self": null,
            "border": null,
            "bottom": null,
            "display": null,
            "flex": null,
            "flex_flow": null,
            "grid_area": null,
            "grid_auto_columns": null,
            "grid_auto_flow": null,
            "grid_auto_rows": null,
            "grid_column": null,
            "grid_gap": null,
            "grid_row": null,
            "grid_template_areas": null,
            "grid_template_columns": null,
            "grid_template_rows": null,
            "height": null,
            "justify_content": null,
            "justify_items": null,
            "left": null,
            "margin": null,
            "max_height": null,
            "max_width": null,
            "min_height": null,
            "min_width": null,
            "object_fit": null,
            "object_position": null,
            "order": null,
            "overflow": null,
            "overflow_x": null,
            "overflow_y": null,
            "padding": null,
            "right": null,
            "top": null,
            "visibility": null,
            "width": null
          }
        },
        "62be514eb2df4dcc8584845ea91e3940": {
          "model_module": "@jupyter-widgets/base",
          "model_name": "LayoutModel",
          "model_module_version": "1.2.0",
          "state": {
            "_model_module": "@jupyter-widgets/base",
            "_model_module_version": "1.2.0",
            "_model_name": "LayoutModel",
            "_view_count": null,
            "_view_module": "@jupyter-widgets/base",
            "_view_module_version": "1.2.0",
            "_view_name": "LayoutView",
            "align_content": null,
            "align_items": null,
            "align_self": null,
            "border": null,
            "bottom": null,
            "display": null,
            "flex": null,
            "flex_flow": null,
            "grid_area": null,
            "grid_auto_columns": null,
            "grid_auto_flow": null,
            "grid_auto_rows": null,
            "grid_column": null,
            "grid_gap": null,
            "grid_row": null,
            "grid_template_areas": null,
            "grid_template_columns": null,
            "grid_template_rows": null,
            "height": null,
            "justify_content": null,
            "justify_items": null,
            "left": null,
            "margin": null,
            "max_height": null,
            "max_width": null,
            "min_height": null,
            "min_width": null,
            "object_fit": null,
            "object_position": null,
            "order": null,
            "overflow": null,
            "overflow_x": null,
            "overflow_y": null,
            "padding": null,
            "right": null,
            "top": null,
            "visibility": null,
            "width": null
          }
        },
        "cad741c39aa34514bc33304057495d26": {
          "model_module": "@jupyter-widgets/controls",
          "model_name": "DescriptionStyleModel",
          "model_module_version": "1.5.0",
          "state": {
            "_model_module": "@jupyter-widgets/controls",
            "_model_module_version": "1.5.0",
            "_model_name": "DescriptionStyleModel",
            "_view_count": null,
            "_view_module": "@jupyter-widgets/base",
            "_view_module_version": "1.2.0",
            "_view_name": "StyleView",
            "description_width": ""
          }
        },
        "dbb9c9594c704d56adc84689af49eb28": {
          "model_module": "@jupyter-widgets/base",
          "model_name": "LayoutModel",
          "model_module_version": "1.2.0",
          "state": {
            "_model_module": "@jupyter-widgets/base",
            "_model_module_version": "1.2.0",
            "_model_name": "LayoutModel",
            "_view_count": null,
            "_view_module": "@jupyter-widgets/base",
            "_view_module_version": "1.2.0",
            "_view_name": "LayoutView",
            "align_content": null,
            "align_items": null,
            "align_self": null,
            "border": null,
            "bottom": null,
            "display": null,
            "flex": null,
            "flex_flow": null,
            "grid_area": null,
            "grid_auto_columns": null,
            "grid_auto_flow": null,
            "grid_auto_rows": null,
            "grid_column": null,
            "grid_gap": null,
            "grid_row": null,
            "grid_template_areas": null,
            "grid_template_columns": null,
            "grid_template_rows": null,
            "height": null,
            "justify_content": null,
            "justify_items": null,
            "left": null,
            "margin": null,
            "max_height": null,
            "max_width": null,
            "min_height": null,
            "min_width": null,
            "object_fit": null,
            "object_position": null,
            "order": null,
            "overflow": null,
            "overflow_x": null,
            "overflow_y": null,
            "padding": null,
            "right": null,
            "top": null,
            "visibility": null,
            "width": null
          }
        },
        "c72d6ed91b194665becc40b3acfc463b": {
          "model_module": "@jupyter-widgets/controls",
          "model_name": "ProgressStyleModel",
          "model_module_version": "1.5.0",
          "state": {
            "_model_module": "@jupyter-widgets/controls",
            "_model_module_version": "1.5.0",
            "_model_name": "ProgressStyleModel",
            "_view_count": null,
            "_view_module": "@jupyter-widgets/base",
            "_view_module_version": "1.2.0",
            "_view_name": "StyleView",
            "bar_color": null,
            "description_width": ""
          }
        },
        "7869be7da9f14981b0b357cdb710f45e": {
          "model_module": "@jupyter-widgets/base",
          "model_name": "LayoutModel",
          "model_module_version": "1.2.0",
          "state": {
            "_model_module": "@jupyter-widgets/base",
            "_model_module_version": "1.2.0",
            "_model_name": "LayoutModel",
            "_view_count": null,
            "_view_module": "@jupyter-widgets/base",
            "_view_module_version": "1.2.0",
            "_view_name": "LayoutView",
            "align_content": null,
            "align_items": null,
            "align_self": null,
            "border": null,
            "bottom": null,
            "display": null,
            "flex": null,
            "flex_flow": null,
            "grid_area": null,
            "grid_auto_columns": null,
            "grid_auto_flow": null,
            "grid_auto_rows": null,
            "grid_column": null,
            "grid_gap": null,
            "grid_row": null,
            "grid_template_areas": null,
            "grid_template_columns": null,
            "grid_template_rows": null,
            "height": null,
            "justify_content": null,
            "justify_items": null,
            "left": null,
            "margin": null,
            "max_height": null,
            "max_width": null,
            "min_height": null,
            "min_width": null,
            "object_fit": null,
            "object_position": null,
            "order": null,
            "overflow": null,
            "overflow_x": null,
            "overflow_y": null,
            "padding": null,
            "right": null,
            "top": null,
            "visibility": null,
            "width": null
          }
        },
        "fc6378d40a8e451ea90ace93c3bedf1b": {
          "model_module": "@jupyter-widgets/controls",
          "model_name": "DescriptionStyleModel",
          "model_module_version": "1.5.0",
          "state": {
            "_model_module": "@jupyter-widgets/controls",
            "_model_module_version": "1.5.0",
            "_model_name": "DescriptionStyleModel",
            "_view_count": null,
            "_view_module": "@jupyter-widgets/base",
            "_view_module_version": "1.2.0",
            "_view_name": "StyleView",
            "description_width": ""
          }
        },
        "a3bebe2d9db54a0f8e705a0463d582e6": {
          "model_module": "@jupyter-widgets/controls",
          "model_name": "HBoxModel",
          "model_module_version": "1.5.0",
          "state": {
            "_dom_classes": [],
            "_model_module": "@jupyter-widgets/controls",
            "_model_module_version": "1.5.0",
            "_model_name": "HBoxModel",
            "_view_count": null,
            "_view_module": "@jupyter-widgets/controls",
            "_view_module_version": "1.5.0",
            "_view_name": "HBoxView",
            "box_style": "",
            "children": [
              "IPY_MODEL_0419ebaa41e04f53a3fc1ac09b7da0c9",
              "IPY_MODEL_fc44504f27644ee39b09fa24406035f1",
              "IPY_MODEL_e748347e1c344afdac88a11915a13ae0"
            ],
            "layout": "IPY_MODEL_19d718b3008541e383ce3b65570e5fbc"
          }
        },
        "0419ebaa41e04f53a3fc1ac09b7da0c9": {
          "model_module": "@jupyter-widgets/controls",
          "model_name": "HTMLModel",
          "model_module_version": "1.5.0",
          "state": {
            "_dom_classes": [],
            "_model_module": "@jupyter-widgets/controls",
            "_model_module_version": "1.5.0",
            "_model_name": "HTMLModel",
            "_view_count": null,
            "_view_module": "@jupyter-widgets/controls",
            "_view_module_version": "1.5.0",
            "_view_name": "HTMLView",
            "description": "",
            "description_tooltip": null,
            "layout": "IPY_MODEL_0a426aec472b4024a8d73369dd3e9acb",
            "placeholder": "​",
            "style": "IPY_MODEL_333cc41d2925453eaba9f9a6abfad76d",
            "value": "100%"
          }
        },
        "fc44504f27644ee39b09fa24406035f1": {
          "model_module": "@jupyter-widgets/controls",
          "model_name": "FloatProgressModel",
          "model_module_version": "1.5.0",
          "state": {
            "_dom_classes": [],
            "_model_module": "@jupyter-widgets/controls",
            "_model_module_version": "1.5.0",
            "_model_name": "FloatProgressModel",
            "_view_count": null,
            "_view_module": "@jupyter-widgets/controls",
            "_view_module_version": "1.5.0",
            "_view_name": "ProgressView",
            "bar_style": "success",
            "description": "",
            "description_tooltip": null,
            "layout": "IPY_MODEL_48577726c6b54003ad2ec33e3e250719",
            "max": 4542,
            "min": 0,
            "orientation": "horizontal",
            "style": "IPY_MODEL_7c8820189106478390bee9c1be8bf806",
            "value": 4542
          }
        },
        "e748347e1c344afdac88a11915a13ae0": {
          "model_module": "@jupyter-widgets/controls",
          "model_name": "HTMLModel",
          "model_module_version": "1.5.0",
          "state": {
            "_dom_classes": [],
            "_model_module": "@jupyter-widgets/controls",
            "_model_module_version": "1.5.0",
            "_model_name": "HTMLModel",
            "_view_count": null,
            "_view_module": "@jupyter-widgets/controls",
            "_view_module_version": "1.5.0",
            "_view_name": "HTMLView",
            "description": "",
            "description_tooltip": null,
            "layout": "IPY_MODEL_b02a5319e5bc4be5b43b3699a9abc660",
            "placeholder": "​",
            "style": "IPY_MODEL_35910467fd8a44d7acdb91f1bf161fd0",
            "value": " 4542/4542 [00:00&lt;00:00, 152253.19it/s]"
          }
        },
        "19d718b3008541e383ce3b65570e5fbc": {
          "model_module": "@jupyter-widgets/base",
          "model_name": "LayoutModel",
          "model_module_version": "1.2.0",
          "state": {
            "_model_module": "@jupyter-widgets/base",
            "_model_module_version": "1.2.0",
            "_model_name": "LayoutModel",
            "_view_count": null,
            "_view_module": "@jupyter-widgets/base",
            "_view_module_version": "1.2.0",
            "_view_name": "LayoutView",
            "align_content": null,
            "align_items": null,
            "align_self": null,
            "border": null,
            "bottom": null,
            "display": null,
            "flex": null,
            "flex_flow": null,
            "grid_area": null,
            "grid_auto_columns": null,
            "grid_auto_flow": null,
            "grid_auto_rows": null,
            "grid_column": null,
            "grid_gap": null,
            "grid_row": null,
            "grid_template_areas": null,
            "grid_template_columns": null,
            "grid_template_rows": null,
            "height": null,
            "justify_content": null,
            "justify_items": null,
            "left": null,
            "margin": null,
            "max_height": null,
            "max_width": null,
            "min_height": null,
            "min_width": null,
            "object_fit": null,
            "object_position": null,
            "order": null,
            "overflow": null,
            "overflow_x": null,
            "overflow_y": null,
            "padding": null,
            "right": null,
            "top": null,
            "visibility": null,
            "width": null
          }
        },
        "0a426aec472b4024a8d73369dd3e9acb": {
          "model_module": "@jupyter-widgets/base",
          "model_name": "LayoutModel",
          "model_module_version": "1.2.0",
          "state": {
            "_model_module": "@jupyter-widgets/base",
            "_model_module_version": "1.2.0",
            "_model_name": "LayoutModel",
            "_view_count": null,
            "_view_module": "@jupyter-widgets/base",
            "_view_module_version": "1.2.0",
            "_view_name": "LayoutView",
            "align_content": null,
            "align_items": null,
            "align_self": null,
            "border": null,
            "bottom": null,
            "display": null,
            "flex": null,
            "flex_flow": null,
            "grid_area": null,
            "grid_auto_columns": null,
            "grid_auto_flow": null,
            "grid_auto_rows": null,
            "grid_column": null,
            "grid_gap": null,
            "grid_row": null,
            "grid_template_areas": null,
            "grid_template_columns": null,
            "grid_template_rows": null,
            "height": null,
            "justify_content": null,
            "justify_items": null,
            "left": null,
            "margin": null,
            "max_height": null,
            "max_width": null,
            "min_height": null,
            "min_width": null,
            "object_fit": null,
            "object_position": null,
            "order": null,
            "overflow": null,
            "overflow_x": null,
            "overflow_y": null,
            "padding": null,
            "right": null,
            "top": null,
            "visibility": null,
            "width": null
          }
        },
        "333cc41d2925453eaba9f9a6abfad76d": {
          "model_module": "@jupyter-widgets/controls",
          "model_name": "DescriptionStyleModel",
          "model_module_version": "1.5.0",
          "state": {
            "_model_module": "@jupyter-widgets/controls",
            "_model_module_version": "1.5.0",
            "_model_name": "DescriptionStyleModel",
            "_view_count": null,
            "_view_module": "@jupyter-widgets/base",
            "_view_module_version": "1.2.0",
            "_view_name": "StyleView",
            "description_width": ""
          }
        },
        "48577726c6b54003ad2ec33e3e250719": {
          "model_module": "@jupyter-widgets/base",
          "model_name": "LayoutModel",
          "model_module_version": "1.2.0",
          "state": {
            "_model_module": "@jupyter-widgets/base",
            "_model_module_version": "1.2.0",
            "_model_name": "LayoutModel",
            "_view_count": null,
            "_view_module": "@jupyter-widgets/base",
            "_view_module_version": "1.2.0",
            "_view_name": "LayoutView",
            "align_content": null,
            "align_items": null,
            "align_self": null,
            "border": null,
            "bottom": null,
            "display": null,
            "flex": null,
            "flex_flow": null,
            "grid_area": null,
            "grid_auto_columns": null,
            "grid_auto_flow": null,
            "grid_auto_rows": null,
            "grid_column": null,
            "grid_gap": null,
            "grid_row": null,
            "grid_template_areas": null,
            "grid_template_columns": null,
            "grid_template_rows": null,
            "height": null,
            "justify_content": null,
            "justify_items": null,
            "left": null,
            "margin": null,
            "max_height": null,
            "max_width": null,
            "min_height": null,
            "min_width": null,
            "object_fit": null,
            "object_position": null,
            "order": null,
            "overflow": null,
            "overflow_x": null,
            "overflow_y": null,
            "padding": null,
            "right": null,
            "top": null,
            "visibility": null,
            "width": null
          }
        },
        "7c8820189106478390bee9c1be8bf806": {
          "model_module": "@jupyter-widgets/controls",
          "model_name": "ProgressStyleModel",
          "model_module_version": "1.5.0",
          "state": {
            "_model_module": "@jupyter-widgets/controls",
            "_model_module_version": "1.5.0",
            "_model_name": "ProgressStyleModel",
            "_view_count": null,
            "_view_module": "@jupyter-widgets/base",
            "_view_module_version": "1.2.0",
            "_view_name": "StyleView",
            "bar_color": null,
            "description_width": ""
          }
        },
        "b02a5319e5bc4be5b43b3699a9abc660": {
          "model_module": "@jupyter-widgets/base",
          "model_name": "LayoutModel",
          "model_module_version": "1.2.0",
          "state": {
            "_model_module": "@jupyter-widgets/base",
            "_model_module_version": "1.2.0",
            "_model_name": "LayoutModel",
            "_view_count": null,
            "_view_module": "@jupyter-widgets/base",
            "_view_module_version": "1.2.0",
            "_view_name": "LayoutView",
            "align_content": null,
            "align_items": null,
            "align_self": null,
            "border": null,
            "bottom": null,
            "display": null,
            "flex": null,
            "flex_flow": null,
            "grid_area": null,
            "grid_auto_columns": null,
            "grid_auto_flow": null,
            "grid_auto_rows": null,
            "grid_column": null,
            "grid_gap": null,
            "grid_row": null,
            "grid_template_areas": null,
            "grid_template_columns": null,
            "grid_template_rows": null,
            "height": null,
            "justify_content": null,
            "justify_items": null,
            "left": null,
            "margin": null,
            "max_height": null,
            "max_width": null,
            "min_height": null,
            "min_width": null,
            "object_fit": null,
            "object_position": null,
            "order": null,
            "overflow": null,
            "overflow_x": null,
            "overflow_y": null,
            "padding": null,
            "right": null,
            "top": null,
            "visibility": null,
            "width": null
          }
        },
        "35910467fd8a44d7acdb91f1bf161fd0": {
          "model_module": "@jupyter-widgets/controls",
          "model_name": "DescriptionStyleModel",
          "model_module_version": "1.5.0",
          "state": {
            "_model_module": "@jupyter-widgets/controls",
            "_model_module_version": "1.5.0",
            "_model_name": "DescriptionStyleModel",
            "_view_count": null,
            "_view_module": "@jupyter-widgets/base",
            "_view_module_version": "1.2.0",
            "_view_name": "StyleView",
            "description_width": ""
          }
        }
      }
    }
  },
  "cells": [
    {
      "cell_type": "markdown",
      "metadata": {
        "id": "view-in-github",
        "colab_type": "text"
      },
      "source": [
        "<a href=\"https://colab.research.google.com/github/elucidator8918/-SYNAPSE/blob/main/Copy_of_ML_Interview_Task_4.ipynb\" target=\"_parent\"><img src=\"https://colab.research.google.com/assets/colab-badge.svg\" alt=\"Open In Colab\"/></a>"
      ]
    },
    {
      "cell_type": "markdown",
      "source": [
        "# **SYNAPSE 2023 Co-Committee ML Interview Task 4**\n",
        "---\n",
        "> This is a Bonus Task. It is not mandatory to complete the task, but doing \n",
        "this task will fetch you brownie points and give you an edge over others in the selection process.\n",
        "\n"
      ],
      "metadata": {
        "id": "UNTuPZ6fdMmu"
      }
    },
    {
      "cell_type": "markdown",
      "source": [
        "**Instructions**\n",
        "> In task 4, we expect you to train a Machine Learning Model that can efficiently predict integer numbers from their corresponding images. It is a Deep Learning (Convolution Neural Network based) problem.\n",
        "\n",
        "> Resources for creating the model are provided just above each cell. Do go through the material, learn the concepts and then start applying.\n",
        "\n",
        "> Relevant code snippets are provided to simplify the process."
      ],
      "metadata": {
        "id": "kPPZbFMxeL12"
      }
    },
    {
      "cell_type": "markdown",
      "source": [
        "**The Task**\n",
        "> Below is the diagram of a sample architecture that you're expected to build. After building the model, you have to write training and testing loops for the model and run it on the MNIST handwritten digits dataset.\n",
        "\n",
        "![image.png](data:image/png;base64,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)"
      ],
      "metadata": {
        "id": "6fBZ_0wlNOXv"
      }
    },
    {
      "cell_type": "markdown",
      "source": [
        "About the MNIST (Modified National Institute of Standards and Technology) Dataset: \n",
        "1.   It contains images of handwritten digits.\n",
        "2.   The database contains 60,000 training images and 10,000 testing images.\n",
        "3.   The dimension of images are 28*28.\n",
        "4. A sample image from the dataset is given below. The corresponding label (a.k.a. target class) is mentioned just above the image.\n",
        "\n",
        "![image.png](data:image/png;base64,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)"
      ],
      "metadata": {
        "id": "A3aFHZcwNF-W"
      }
    },
    {
      "cell_type": "markdown",
      "source": [
        "**Start Coding**\n",
        "---\n",
        "Step 1: Import necessary modules/packages\n",
        "--\n",
        "Below imported are the modules that might be useful. (You are allowed to add more packages or modify existing ones below)."
      ],
      "metadata": {
        "id": "QNOoPQa8slVs"
      }
    },
    {
      "cell_type": "code",
      "source": [
        "import numpy as np\n",
        "import torch\n",
        "import torchvision\n",
        "import matplotlib.pyplot as plt\n",
        "from time import time\n",
        "from torchvision import transforms\n",
        "from torchvision.datasets import MNIST\n",
        "from torchvision.transforms import ToTensor\n",
        "from torchvision.utils import make_grid\n",
        "import torch.nn as nn\n",
        "from torch.utils.data import random_split\n",
        "from torch.utils.data import DataLoader\n",
        "import torch.nn.functional as F\n",
        "%matplotlib inline"
      ],
      "metadata": {
        "id": "fAS1sZZANTr0"
      },
      "execution_count": 1,
      "outputs": []
    },
    {
      "cell_type": "markdown",
      "source": [
        "Step 2: Download dataset and create dataloaders\n",
        "--\n",
        "Next step is to download the dataset in the notebook.\n",
        "To-Do:\n",
        "1. Two **dataloaders** are already initialized by us.\n",
        "2. You only have to write the corresponding statements on the RHS. \n",
        "3. Download training data in the train_loader variable and Testing data in test_loader variable\n",
        "4. Do apply the transform as mentioned to normalize all images.\n",
        "\n",
        "\n",
        "Hints:\n",
        "1. https://pytorch.org/docs/stable/data.html#torch.utils.data.DataLoader\n",
        "2. https://pytorch.org/vision/main/generated/torchvision.datasets.MNIST.html"
      ],
      "metadata": {
        "id": "lVRpON5wlHBW"
      }
    },
    {
      "cell_type": "code",
      "source": [
        "#your code below\n",
        "dataset = MNIST(root='data/', download=True,transform = transforms.Compose([transforms.ToTensor(), transforms.Normalize((0.8,), (0.3,))]))\n",
        "val_size = 10000\n",
        "train_size = len(dataset) - val_size\n",
        "train_ds, val_ds = random_split(dataset, [train_size, val_size])\n",
        "train_loader = DataLoader(train_ds, shuffle=True, num_workers=1, pin_memory=True,batch_size=32)\n",
        "val_loader = DataLoader(val_ds, num_workers=1, pin_memory=True,batch_size=32)"
      ],
      "metadata": {
        "id": "BTIsegoVNeCp",
        "colab": {
          "base_uri": "https://localhost:8080/",
          "height": 423,
          "referenced_widgets": [
            "db0dc443cb024a108f8848f6dafd7f6f",
            "02f94ead1dab4e2493ac37d256b259f9",
            "b53b2e4ed5c04e4eaddc3d8de8211cf9",
            "e5ade13fd7d14fad815ebf502061da36",
            "5069d8ed139b41639587754c60ac019b",
            "4aef3cb0d14d408686e1136d14ab42e2",
            "ffa0471cd46c4a59a02fe733b27cc647",
            "9fd93c3704d84b298d3b23412dcbaa0a",
            "cc1e61c1964b4599833564a9bbc6a66b",
            "63ba08fc3b1344b8a09600f0dab4930f",
            "f4fad64e606f4c65805d55a4f2c2432e",
            "062339b31f164b25875cc3e97f3ee6b2",
            "faf35c7c269e4dd9ab35c32c29ce81e3",
            "b7b136a0780a4c89840a7d4a02a0d115",
            "21f60511a1744ccfbda54677408749ef",
            "a4ae0e012815421ca9fcc7fc2d1f65f0",
            "2a8c106278c34f38a7818a67c4b6bd0d",
            "ba8bc8910a784fbc96d45244214f372c",
            "74f0c4c49b7c49f394fef1ab0743d1ce",
            "6c74f4ad64044e419ba38fc2fc5a523f",
            "08330b2d1f044b119327a1fa2713b328",
            "467fe26615c543c6a1bc0fc1730343cc",
            "70f795598db84d16b051116208dcc6fa",
            "9ebd5a51d7cd48cea46e2959a38ffa48",
            "6ba6267c3fee44d6a7c46e22fe9e6a1f",
            "59350f7996a541c1b8aad48bd285748d",
            "23ccf0c6c4334e66a9f3e1163d6b1587",
            "62be514eb2df4dcc8584845ea91e3940",
            "cad741c39aa34514bc33304057495d26",
            "dbb9c9594c704d56adc84689af49eb28",
            "c72d6ed91b194665becc40b3acfc463b",
            "7869be7da9f14981b0b357cdb710f45e",
            "fc6378d40a8e451ea90ace93c3bedf1b",
            "a3bebe2d9db54a0f8e705a0463d582e6",
            "0419ebaa41e04f53a3fc1ac09b7da0c9",
            "fc44504f27644ee39b09fa24406035f1",
            "e748347e1c344afdac88a11915a13ae0",
            "19d718b3008541e383ce3b65570e5fbc",
            "0a426aec472b4024a8d73369dd3e9acb",
            "333cc41d2925453eaba9f9a6abfad76d",
            "48577726c6b54003ad2ec33e3e250719",
            "7c8820189106478390bee9c1be8bf806",
            "b02a5319e5bc4be5b43b3699a9abc660",
            "35910467fd8a44d7acdb91f1bf161fd0"
          ]
        },
        "outputId": "a1123acb-482d-445c-f043-f19595d6a26c"
      },
      "execution_count": 2,
      "outputs": [
        {
          "output_type": "stream",
          "name": "stdout",
          "text": [
            "Downloading http://yann.lecun.com/exdb/mnist/train-images-idx3-ubyte.gz\n",
            "Downloading http://yann.lecun.com/exdb/mnist/train-images-idx3-ubyte.gz to data/MNIST/raw/train-images-idx3-ubyte.gz\n"
          ]
        },
        {
          "output_type": "display_data",
          "data": {
            "text/plain": [
              "  0%|          | 0/9912422 [00:00<?, ?it/s]"
            ],
            "application/vnd.jupyter.widget-view+json": {
              "version_major": 2,
              "version_minor": 0,
              "model_id": "db0dc443cb024a108f8848f6dafd7f6f"
            }
          },
          "metadata": {}
        },
        {
          "output_type": "stream",
          "name": "stdout",
          "text": [
            "Extracting data/MNIST/raw/train-images-idx3-ubyte.gz to data/MNIST/raw\n",
            "\n",
            "Downloading http://yann.lecun.com/exdb/mnist/train-labels-idx1-ubyte.gz\n",
            "Downloading http://yann.lecun.com/exdb/mnist/train-labels-idx1-ubyte.gz to data/MNIST/raw/train-labels-idx1-ubyte.gz\n"
          ]
        },
        {
          "output_type": "display_data",
          "data": {
            "text/plain": [
              "  0%|          | 0/28881 [00:00<?, ?it/s]"
            ],
            "application/vnd.jupyter.widget-view+json": {
              "version_major": 2,
              "version_minor": 0,
              "model_id": "062339b31f164b25875cc3e97f3ee6b2"
            }
          },
          "metadata": {}
        },
        {
          "output_type": "stream",
          "name": "stdout",
          "text": [
            "Extracting data/MNIST/raw/train-labels-idx1-ubyte.gz to data/MNIST/raw\n",
            "\n",
            "Downloading http://yann.lecun.com/exdb/mnist/t10k-images-idx3-ubyte.gz\n",
            "Downloading http://yann.lecun.com/exdb/mnist/t10k-images-idx3-ubyte.gz to data/MNIST/raw/t10k-images-idx3-ubyte.gz\n"
          ]
        },
        {
          "output_type": "display_data",
          "data": {
            "text/plain": [
              "  0%|          | 0/1648877 [00:00<?, ?it/s]"
            ],
            "application/vnd.jupyter.widget-view+json": {
              "version_major": 2,
              "version_minor": 0,
              "model_id": "70f795598db84d16b051116208dcc6fa"
            }
          },
          "metadata": {}
        },
        {
          "output_type": "stream",
          "name": "stdout",
          "text": [
            "Extracting data/MNIST/raw/t10k-images-idx3-ubyte.gz to data/MNIST/raw\n",
            "\n",
            "Downloading http://yann.lecun.com/exdb/mnist/t10k-labels-idx1-ubyte.gz\n",
            "Downloading http://yann.lecun.com/exdb/mnist/t10k-labels-idx1-ubyte.gz to data/MNIST/raw/t10k-labels-idx1-ubyte.gz\n"
          ]
        },
        {
          "output_type": "display_data",
          "data": {
            "text/plain": [
              "  0%|          | 0/4542 [00:00<?, ?it/s]"
            ],
            "application/vnd.jupyter.widget-view+json": {
              "version_major": 2,
              "version_minor": 0,
              "model_id": "a3bebe2d9db54a0f8e705a0463d582e6"
            }
          },
          "metadata": {}
        },
        {
          "output_type": "stream",
          "name": "stdout",
          "text": [
            "Extracting data/MNIST/raw/t10k-labels-idx1-ubyte.gz to data/MNIST/raw\n",
            "\n"
          ]
        }
      ]
    },
    {
      "cell_type": "code",
      "source": [
        "dataiter = iter(train_loader)\n",
        "images, labels = dataiter.next()\n",
        "\n",
        "print(images.shape)\n",
        "print(labels.shape)"
      ],
      "metadata": {
        "id": "7Ot7IJPMNhGy",
        "colab": {
          "base_uri": "https://localhost:8080/"
        },
        "outputId": "df8f6730-edee-4d3a-b670-60dc1c447049"
      },
      "execution_count": 3,
      "outputs": [
        {
          "output_type": "stream",
          "name": "stdout",
          "text": [
            "torch.Size([32, 1, 28, 28])\n",
            "torch.Size([32])\n"
          ]
        }
      ]
    },
    {
      "cell_type": "markdown",
      "source": [
        "Step 3: Build the CNN Architecture.\n",
        "--\n",
        "The major task is in the next cell. Here you have to subclass the torch.nn module and add different layers to the model.\n",
        "\n",
        "**Only use the sample architecture as given**\n",
        "\n",
        "![image.png](data:image/png;base64,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)"
      ],
      "metadata": {
        "id": "0k9uxqEHryzl"
      }
    },
    {
      "cell_type": "markdown",
      "source": [
        "Hints:\n",
        "1. Neural networks: https://www.youtube.com/watch?v=aircAruvnKk\n",
        "2. CNN basics: https://www.youtube.com/watch?v=zfiSAzpy9NM\n",
        "3. CNN maths and terms: https://www.youtube.com/watch?v=m8pOnJxOcqY\n",
        "4. Feature learning mathematics: https://www.youtube.com/watch?v=Y1qxI-Df4Lk \n",
        "5. Examples: https://www.aiworkbox.com/lessons/how-to-subclass-the-nn-module-class-in-pytorch  /  https://www.youtube.com/watch?v=t67ZS14hw1g"
      ],
      "metadata": {
        "id": "9hnsqbJeE-4E"
      }
    },
    {
      "cell_type": "code",
      "source": [
        "class Model(torch.nn.Module):\n",
        "  def __init__(self):\n",
        "    super(Model, self).__init__()\n",
        "    #To-Do: Add all layers as mentioned in the diagram. You may also tune some parameters for achieving a better accuracy.\n",
        "    self.conv = nn.Sequential(nn.Conv2d(in_channels=1,out_channels=56,kernel_size=1,stride=1),nn.LeakyReLU(),nn.MaxPool2d(kernel_size=2),\n",
        "                               nn.Conv2d(in_channels=56,out_channels=28,kernel_size=6,stride=2),nn.LeakyReLU(),nn.MaxPool2d(kernel_size=2),\n",
        "                               nn.Conv2d(in_channels=28,out_channels=14,kernel_size=2,stride=2),\n",
        "                               nn.LeakyReLU())\n",
        "    self.out=nn.Linear(14,10)\n",
        "\n",
        "  def forward(self, x):\n",
        "    #To-Do: Add the above created layers in forward function. Don't forget to write the \"return\" statement properly.\n",
        "    x = self.conv(x)\n",
        "    x = x.view(x.size(0), -1)\n",
        "    return self.out(x)"
      ],
      "metadata": {
        "id": "dfK3YTdLNlry"
      },
      "execution_count": 4,
      "outputs": []
    },
    {
      "cell_type": "markdown",
      "source": [
        "Step 4: Choosing optimizers, loss functions for training the model\n",
        "--\n",
        "Hints:\n",
        "1. Surf the internet and understand concepts like accuracy, loss, gradient descent, learning rate, activation, optimizers, etc for ML models.\n",
        "2. Use PyTorch's documentation to complete the code in following cell. "
      ],
      "metadata": {
        "id": "dNGcq5LYLfbR"
      }
    },
    {
      "cell_type": "code",
      "source": [
        "model = Model()\n",
        "print(model)\n",
        "\n",
        "criterion = nn.CrossEntropyLoss()       #To-Do: Choose an appropriate loss function\n",
        "optimizer = torch.optim.Adam(model.parameters(),lr = 1e-3) #To-Do: Choose an appropriate optimizer\n",
        "\n",
        "print(model)\n",
        "\n",
        "'''Output of this cell should be similar to model architecture diagram given'''"
      ],
      "metadata": {
        "id": "4xOKObjINydg",
        "colab": {
          "base_uri": "https://localhost:8080/",
          "height": 487
        },
        "outputId": "0c140c54-a7e9-494c-831b-554609ea23b0"
      },
      "execution_count": 5,
      "outputs": [
        {
          "output_type": "stream",
          "name": "stdout",
          "text": [
            "Model(\n",
            "  (conv): Sequential(\n",
            "    (0): Conv2d(1, 56, kernel_size=(1, 1), stride=(1, 1))\n",
            "    (1): LeakyReLU(negative_slope=0.01)\n",
            "    (2): MaxPool2d(kernel_size=2, stride=2, padding=0, dilation=1, ceil_mode=False)\n",
            "    (3): Conv2d(56, 28, kernel_size=(6, 6), stride=(2, 2))\n",
            "    (4): LeakyReLU(negative_slope=0.01)\n",
            "    (5): MaxPool2d(kernel_size=2, stride=2, padding=0, dilation=1, ceil_mode=False)\n",
            "    (6): Conv2d(28, 14, kernel_size=(2, 2), stride=(2, 2))\n",
            "    (7): LeakyReLU(negative_slope=0.01)\n",
            "  )\n",
            "  (out): Linear(in_features=14, out_features=10, bias=True)\n",
            ")\n",
            "Model(\n",
            "  (conv): Sequential(\n",
            "    (0): Conv2d(1, 56, kernel_size=(1, 1), stride=(1, 1))\n",
            "    (1): LeakyReLU(negative_slope=0.01)\n",
            "    (2): MaxPool2d(kernel_size=2, stride=2, padding=0, dilation=1, ceil_mode=False)\n",
            "    (3): Conv2d(56, 28, kernel_size=(6, 6), stride=(2, 2))\n",
            "    (4): LeakyReLU(negative_slope=0.01)\n",
            "    (5): MaxPool2d(kernel_size=2, stride=2, padding=0, dilation=1, ceil_mode=False)\n",
            "    (6): Conv2d(28, 14, kernel_size=(2, 2), stride=(2, 2))\n",
            "    (7): LeakyReLU(negative_slope=0.01)\n",
            "  )\n",
            "  (out): Linear(in_features=14, out_features=10, bias=True)\n",
            ")\n"
          ]
        },
        {
          "output_type": "execute_result",
          "data": {
            "text/plain": [
              "'Output of this cell should be similar to model architecture diagram given'"
            ],
            "application/vnd.google.colaboratory.intrinsic+json": {
              "type": "string"
            }
          },
          "metadata": {},
          "execution_count": 5
        }
      ]
    },
    {
      "cell_type": "markdown",
      "source": [
        "Step 5: Training and Testing of the model\n",
        "--"
      ],
      "metadata": {
        "id": "0hJHFASZ5OWD"
      }
    },
    {
      "cell_type": "code",
      "source": [
        "def train(epochs, model, loss_func, opt, dataset):\n",
        "  train_loss = list()\n",
        "  for epoch in range(epochs):\n",
        "      total_train_loss = 0\n",
        "      for i, data in enumerate(dataset, 0):\n",
        "          inputs, labels = data\n",
        "          opt.zero_grad()\n",
        "          outputs = model(inputs)\n",
        "          loss = loss_func(outputs, labels)\n",
        "          total_train_loss += loss.item()\n",
        "          loss.backward()\n",
        "          opt.step()\n",
        "          total_train_loss = total_train_loss / (i + 1)\n",
        "          train_loss.append(total_train_loss)\n",
        "      print('\\nEpoch: {}/{}, Train Loss: {:.5f}'.format(epoch + 1, epochs, total_train_loss))\n",
        "  print('=== End of Training Process ===')\n",
        "  return\n",
        "\n",
        "\n",
        "def predict(model, dataset):\n",
        "  corr = 0\n",
        "  total = 0\n",
        "  with torch.no_grad():\n",
        "      for data in dataset:\n",
        "          images, labels = data\n",
        "          outputs = model(images)\n",
        "          _, predicted = torch.max(outputs.data, 1)\n",
        "          total += labels.size(0)\n",
        "          corr += (predicted == labels).sum().item()\n",
        "  print('Model Accuracy on 10000 Validation Images: %d %% \\n\\n' % (100 * corr / total))\n",
        "  figure = plt.figure(figsize=(25, 4))\n",
        "  for i in np.arange(8):\n",
        "      ax = figure.add_subplot(2, 4, i+1, xticks=[], yticks=[])\n",
        "      ax.imshow(np.squeeze(images[i]), cmap='gray')\n",
        "      ax.set_title(\"{} ({})\".format(str(predicted[i].item()), str(labels[i].item())))\n",
        "  plt.show()\n",
        "  return"
      ],
      "metadata": {
        "id": "YRzJb5SmSn1X"
      },
      "execution_count": 6,
      "outputs": []
    },
    {
      "cell_type": "code",
      "source": [
        "'''Understand the train function defined in above cell and use it on the training data.'''\n",
        "#your code here\n",
        "train(5,model,criterion,optimizer,train_loader)"
      ],
      "metadata": {
        "id": "Va4s9ivyvlCK",
        "colab": {
          "base_uri": "https://localhost:8080/"
        },
        "outputId": "e2183bd8-8452-415c-d8bd-fae7291268dc"
      },
      "execution_count": 7,
      "outputs": [
        {
          "output_type": "stream",
          "name": "stdout",
          "text": [
            "\n",
            "Epoch: 1/5, Train Loss: 0.00005\n",
            "\n",
            "Epoch: 2/5, Train Loss: 0.00004\n",
            "\n",
            "Epoch: 3/5, Train Loss: 0.00011\n",
            "\n",
            "Epoch: 4/5, Train Loss: 0.00005\n",
            "\n",
            "Epoch: 5/5, Train Loss: 0.00001\n",
            "=== End of Training Process ===\n"
          ]
        }
      ]
    },
    {
      "cell_type": "code",
      "source": [
        "'''Understand the predict function defined above and use it on the test data.'''\n",
        "#your code here\n",
        "test_loader = DataLoader(MNIST('data/', train=False,transform=transforms.Compose([transforms.ToTensor(),transforms.Normalize((0.8,), (0.3,))])),batch_size=32)\n",
        "predict(model,test_loader)"
      ],
      "metadata": {
        "id": "pgrWa6pISsWD",
        "colab": {
          "base_uri": "https://localhost:8080/",
          "height": 312
        },
        "outputId": "86b50a1e-65fe-49be-ceca-01ad19488ac8"
      },
      "execution_count": 26,
      "outputs": [
        {
          "output_type": "stream",
          "name": "stdout",
          "text": [
            "Model Accuracy on 10000 Validation Images: 95 % \n",
            "\n",
            "\n"
          ]
        },
        {
          "output_type": "display_data",
          "data": {
            "text/plain": [
              "<Figure size 1800x288 with 8 Axes>"
            ],
            "image/png": "[encoded data removed]"
          },
          "metadata": {}
        }
      ]
    },
    {
      "cell_type": "markdown",
      "source": [
        "End of task 4\n",
        "--"
      ],
      "metadata": {
        "id": "PHmMsGq061ZQ"
      }
    }
  ]
}